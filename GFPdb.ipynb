{
 "metadata": {
  "name": "",
  "signature": "sha256:eae9e5731cfdd9e80389c9ce451f60b7b14689f1b174bc8cebad19b885b4b8e7"
 },
 "nbformat": 3,
 "nbformat_minor": 0,
 "worksheets": [
  {
   "cells": [
    {
     "cell_type": "code",
     "collapsed": false,
     "input": [
      "import pandas as pd"
     ],
     "language": "python",
     "metadata": {},
     "outputs": [],
     "prompt_number": 39
    },
    {
     "cell_type": "code",
     "collapsed": false,
     "input": [
      "from IPython.html.widgets import interact, interactive, fixed\n",
      "from IPython.html import widgets\n",
      "from IPython.display import clear_output, display, HTML"
     ],
     "language": "python",
     "metadata": {},
     "outputs": [],
     "prompt_number": 40
    },
    {
     "cell_type": "code",
     "collapsed": false,
     "input": [
      "#data = pd.read_excel('data/FPD-Non-Redundant-20Oct2014.xlsx', 0)"
     ],
     "language": "python",
     "metadata": {},
     "outputs": [],
     "prompt_number": 41
    },
    {
     "cell_type": "code",
     "collapsed": false,
     "input": [
      "data = pd.read_excel('data/FPD-Non-Redundant-20Oct2014.xlsx', 0)\n",
      "\n",
      "class Console(object):\n",
      "    \n",
      "    def __init__(self, data):\n",
      "        self.data = data\n",
      "        self.chrph = sorted(self.data.ix[:,2])[0]  # set a default chromophore\n",
      "        \n",
      "        '''create a dropdown list for all chromophores'''\n",
      "        \n",
      "        # create a list of unique chromophores\n",
      "        self.chromophores = set(self.data.ix[:,2])\n",
      "        self.chrph_drop_list = widgets.DropdownWidget(\n",
      "                                    values=dict(zip(chromophores, chromophores)),\n",
      "                                    value=self.chrph,\n",
      "                                    description='Chromophores',\n",
      "                                )\n",
      "        display(self.chrph_drop_list)\n",
      "        self.chrph_drop_list.on_trait_change(self.on_select_chrph, 'value')\n",
      "        #self.display_chromophores()\n",
      "        \n",
      "        '''create a slider for IDs'''\n",
      "        self.excitation_slider = widgets.FloatSliderWidget(description='FPID')\n",
      "        display(self.excitation_slider)\n",
      "        self.adjust_excitation_slider()\n",
      "        \n",
      "        self.excitation_slider.on_trait_change(self.on_excitation_slider_change, 'value')\n",
      "    \n",
      "    def display_data(self, filtered_data):\n",
      "        '''Display molecules with a select chromophore'''\n",
      "        \n",
      "        clear_output()\n",
      "        display(HTML(filtered_data.to_html()))\n",
      "\n",
      "    def on_select_chrph(self, name, value):    \n",
      "        self.chrph = value\n",
      "        self.display_data(self.filter_data_by_chrph())\n",
      "        self.adjust_excitation_slider()\n",
      "        #print self.chrph, self.id_slider.min, self.id_slider.max\n",
      "\n",
      "    def adjust_excitation_slider(self):\n",
      "        filtered_data = self.filter_data_by_chrph()\n",
      "        self.excitation_slider.value = self.excitation_slider.min\n",
      "        self.excitation_slider.min = min(filtered_data.ix[:,11])\n",
      "        self.excitation_slider.max = max(filtered_data.ix[:,11])\n",
      "    \n",
      "    def filter_data_by_chrph(self):\n",
      "        filtered_data = self.data[self.data.ix[:,2] \\\n",
      "                                  == self.chrph]\n",
      "        return filtered_data\n",
      "    \n",
      "    def filter_data_by_chrph_and_pid(self, min_id):\n",
      "        filtered_data = self.filter_data_by_chrph()\n",
      "        filtered_data = filtered_data[filtered_data.ix[:,11]\n",
      "                                      != NaN]\n",
      "        filtered_data = filtered_data[filtered_data.ix[:,11] \\\n",
      "                                      >= min_id]\n",
      "        return filtered_data\n",
      "\n",
      "    def on_excitation_slider_change(self, name, value):\n",
      "        '''Show records with ID greater than a given ID'''\n",
      "\n",
      "        self.display_data(self.filter_data_by_chrph_and_pid(value))"
     ],
     "language": "python",
     "metadata": {},
     "outputs": [],
     "prompt_number": 60
    },
    {
     "cell_type": "code",
     "collapsed": false,
     "input": [
      "d = Console(data)"
     ],
     "language": "python",
     "metadata": {},
     "outputs": [],
     "prompt_number": 62
    },
    {
     "cell_type": "code",
     "collapsed": false,
     "input": [],
     "language": "python",
     "metadata": {},
     "outputs": [],
     "prompt_number": 43
    }
   ],
   "metadata": {}
  }
 ]
}