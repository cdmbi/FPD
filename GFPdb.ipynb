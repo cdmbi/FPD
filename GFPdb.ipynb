{
 "metadata": {
  "name": "",
  "signature": "sha256:d676a55538c1cc870457f92f76a77f18f2d2a534ebbb3a6e4fc96c87a58a2ecf"
 },
 "nbformat": 3,
 "nbformat_minor": 0,
 "worksheets": [
  {
   "cells": [
    {
     "cell_type": "code",
     "collapsed": false,
     "input": [
      "import pandas as pd"
     ],
     "language": "python",
     "metadata": {},
     "outputs": [],
     "prompt_number": 1
    },
    {
     "cell_type": "code",
     "collapsed": false,
     "input": [
      "from IPython.html.widgets import interact, interactive, fixed\n",
      "from IPython.html import widgets\n",
      "from IPython.display import clear_output, display, HTML"
     ],
     "language": "python",
     "metadata": {},
     "outputs": [],
     "prompt_number": 2
    },
    {
     "cell_type": "code",
     "collapsed": false,
     "input": [
      "#data = pd.read_excel('data/FPD-Non-Redundant-20Oct2014.xlsx', 0)"
     ],
     "language": "python",
     "metadata": {},
     "outputs": [],
     "prompt_number": 3
    },
    {
     "cell_type": "code",
     "collapsed": false,
     "input": [
      "data = pd.read_excel('data/FPD-Non-Redundant-20Oct2014.xlsx', 0)\n",
      "\n",
      "class Console(object):\n",
      "    \n",
      "    def __init__(self, data):\n",
      "        self.data = data\n",
      "        self.chrph = sorted(self.data.ix[:,2])[0]  # set a default chromophore\n",
      "        \n",
      "        '''create a dropdown list for all chromophores'''\n",
      "        \n",
      "        # create a list of unique chromophores\n",
      "        self.chromophores = set(self.data.ix[:,2])\n",
      "        self.chrph_drop_list = widgets.DropdownWidget(\n",
      "                                    values=dict(zip(chromophores, chromophores)),\n",
      "                                    value=self.chrph,\n",
      "                                    description='Chromophores',\n",
      "                                )\n",
      "        display(self.chrph_drop_list)\n",
      "        self.chrph_drop_list.on_trait_change(self.on_select_chrph, 'value')\n",
      "        #self.display_chromophores()\n",
      "        \n",
      "        '''create a slider for IDs'''\n",
      "        self.id_slider = widgets.IntSliderWidget(description='FPID')\n",
      "        display(self.id_slider)\n",
      "        self.adjust_id_slider()\n",
      "        \n",
      "        self.id_slider.on_trait_change(self.on_id_slider_change, 'value')\n",
      "    \n",
      "    def display_data(self, filtered_data):\n",
      "        '''Display molecules with a select chromophore'''\n",
      "        \n",
      "        clear_output()\n",
      "        display(HTML(filtered_data.to_html()))\n",
      "\n",
      "    def on_select_chrph(self, name, value):    \n",
      "        self.chrph = value\n",
      "        self.display_data(self.filter_data_by_chrph())\n",
      "        self.adjust_id_slider()\n",
      "        #print self.chrph, self.id_slider.min, self.id_slider.max\n",
      "\n",
      "    def adjust_id_slider(self):\n",
      "        filtered_data = self.filter_data_by_chrph()\n",
      "        self.id_slider.value = id_slider.min\n",
      "        self.id_slider.min = min(filtered_data.ix[:,0])\n",
      "        self.id_slider.max = max(filtered_data.ix[:,0])\n",
      "    \n",
      "    def filter_data_by_chrph(self):\n",
      "        filtered_data = self.data[self.data.ix[:,2] \\\n",
      "                                  == self.chrph][range(4)]\n",
      "        return filtered_data\n",
      "    \n",
      "    def filter_data_by_chrph_and_pid(self, min_id):\n",
      "        filtered_data = self.filter_data_by_chrph()\n",
      "        filtered_data = filtered_data[filtered_data.ix[:,0] \\\n",
      "                                      > min_id][range(4)]\n",
      "        return filtered_data\n",
      "\n",
      "    def on_id_slider_change(self, name, value):\n",
      "        '''Show records with ID greater than a given ID'''\n",
      "\n",
      "        self.display_data(self.filter_data_by_chrph_and_pid(value))"
     ],
     "language": "python",
     "metadata": {},
     "outputs": [],
     "prompt_number": 35
    },
    {
     "cell_type": "code",
     "collapsed": false,
     "input": [
      "d = Console(data)"
     ],
     "language": "python",
     "metadata": {},
     "outputs": [
      {
       "html": [
        "<table border=\"1\" class=\"dataframe\">\n",
        "  <thead>\n",
        "    <tr style=\"text-align: right;\">\n",
        "      <th></th>\n",
        "      <th>FPID</th>\n",
        "      <th>Chromophore Name</th>\n",
        "      <th>Chromophore Class</th>\n",
        "      <th>Protein Name</th>\n",
        "    </tr>\n",
        "  </thead>\n",
        "  <tbody>\n",
        "    <tr>\n",
        "      <th>836</th>\n",
        "      <td> 10936</td>\n",
        "      <td> Gly-Tyr-Gly (GYG)</td>\n",
        "      <td> GYG</td>\n",
        "      <td> bfloGFPa1</td>\n",
        "    </tr>\n",
        "    <tr>\n",
        "      <th>837</th>\n",
        "      <td> 10937</td>\n",
        "      <td> Gly-Tyr-Gly (GYG)</td>\n",
        "      <td> GYG</td>\n",
        "      <td> bfloGFPc1</td>\n",
        "    </tr>\n",
        "  </tbody>\n",
        "</table>"
       ],
       "metadata": {},
       "output_type": "display_data",
       "text": [
        "<IPython.core.display.HTML at 0x1078629d0>"
       ]
      }
     ],
     "prompt_number": 36
    },
    {
     "cell_type": "code",
     "collapsed": false,
     "input": [],
     "language": "python",
     "metadata": {},
     "outputs": []
    }
   ],
   "metadata": {}
  }
 ]
}